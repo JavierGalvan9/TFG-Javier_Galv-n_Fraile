{
 "cells": [
  {
   "cell_type": "markdown",
   "metadata": {},
   "source": [
    "# P versus NP problem"
   ]
  },
  {
   "cell_type": "markdown",
   "metadata": {},
   "source": [
    "The P vs NP problem constitutes one of the biggest questions in Computational Theory, being also a Million Prize Problem. It asks whether every problem whose solution can be verified in polynomial time can also be solved in polynomial time.\n",
    "\n",
    "In Computational Complexity Theory, a *decision problem* is a problem with a yes or no answer. **NP** is a complexity class that represents the set of decision problems in which it can be checked in a reasonable time whether a solution of the problem is valid or not. However, it requires a *nondeterministic polynomial time* to find a solution to the problem. \n",
    "\n",
    "Otherwise, __P__ is a complexity class that represents the set of decision problems for which it can be found a solution in a *polynomial time*. It is easy to see that a problem p belongs to np but not the other way around. \n",
    "\n",
    "__NP-complete__ are the most difficult problems in NP, in the sense that they are the most probable to not be included in P. A decisión problem $c$ is said to be NP-complete if:\n",
    "<ol>\n",
    "    <li> $c$ i in NP.\n",
    "    <li> Every problem in NP is reducible to $c$ in polynomial time.\n",
    "</ol>\n",
    "If every NP-complete problem was included in P, then it will indicate that:\n",
    "\\begin{equation}\n",
    "P = NP.\n",
    "\\end{equation}\n",
    "\n",
    "Finally, a problem H is **NP-hard** when every problem L in NP can be reduced in polynomial time to H; that is, assuming a solution for H takes 1 unit time, we can use H's solution to solve L in polynomial time. As a consequence, finding a polynomial algorithm to solve any NP-hard problem would give polynomial algorithms for all the problems in NP, which is unlikely as many of them are considered difficult. Note that NP-hard problems do not have to be in NP, and they do not have to be decision problems. [1][2]\n",
    "\n",
    "<img src=\"https://upload.wikimedia.org/wikipedia/commons/thumb/a/a0/P_np_np-complete_np-hard.svg/800px-P_np_np-complete_np-hard.svg.png\" width=\"500\" height=\"500\">\n",
    "\n",
    "Some examples of NP-complete problems are *exact cover*, *max-cut* and *3-SAT*. The *exact cover* will be studied in the following section."
   ]
  },
  {
   "cell_type": "markdown",
   "metadata": {},
   "source": [
    "## Exact cover\n",
    "\n",
    "Given a finite nonempty set $U = \\{u_1, ..., u_n\\}$, also called universe, and a family $F = \\{S_1, ..., S_m\\}$ of $m \\geq 1$ nonempty subsets of $U$. Then the question is whether there is an *exact cover*, which is a subfamily $C \\subseteq F$ of subsets in $F$ such that the sets in $C$ are disjoint and their union is equal to $U$.\n",
    "\n",
    "For example, suppose the finite set:\n",
    "\n",
    "\\begin{equation}\n",
    "U = \\{u_1, u_2, u_3, u_4, u_5, u_6\\}\n",
    "\\end{equation}\n",
    "\n",
    "and let $F$ be the family:\n",
    "\n",
    "\\begin{equation}\n",
    "F = \\{\\{u_1, u_3\\}, \\{u_2, u_3, u_6\\},  \\{u_1, u_5\\}, \\{u_2, u_3, u_4\\}, \\{u_5, u_6\\}, \\{u_2, u_4\\}\\}\n",
    "\\end{equation}\n",
    "\n",
    "Then, the subfamily $C$ defined as:\n",
    "\n",
    "\\begin{equation}\n",
    "C = \\{\\{u_1, u_3\\}, \\{u_5, u_6\\}, \\{u_2, u_4\\}\\}\n",
    "\\end{equation}\n",
    "\n",
    "is an exact cover. [4]"
   ]
  },
  {
   "cell_type": "markdown",
   "metadata": {},
   "source": [
    "### The example problem"
   ]
  },
  {
   "cell_type": "markdown",
   "metadata": {},
   "source": [
    "The main goal is to find the exact cover (if it exists) for the following set:"
   ]
  },
  {
   "cell_type": "code",
   "execution_count": 2,
   "metadata": {},
   "outputs": [
    {
     "name": "stdout",
     "output_type": "stream",
     "text": [
      "[[2, 3, 4], [1, 2], [3, 4], [1, 2, 3]]\n"
     ]
    }
   ],
   "source": [
    "import numpy as np\n",
    "import json\n",
    "from qiskit import Aer\n",
    "from qiskit.aqua import run_algorithm\n",
    "from qiskit.aqua.input import EnergyInput\n",
    "from qiskit.aqua.translators.ising import exact_cover\n",
    "from qiskit.aqua.algorithms import ExactEigensolver\n",
    "\n",
    "input_file = 'sample.exactcover'\n",
    "with open(input_file) as f:\n",
    "    #Import the dataset and form a list with it\n",
    "    list_of_subsets = json.load(f)\n",
    "    print(list_of_subsets)"
   ]
  },
  {
   "cell_type": "markdown",
   "metadata": {},
   "source": [
    "For that purpose the problem will be faced in different ways:\n",
    "<ol>\n",
    "    <li> Brute-force method.\n",
    "    <li> Optimization in the non-programming way.\n",
    "    <li> Optimization in the programming way.\n",
    "    <li> Optimization with the Variational-Quantum-Eigensolver (VQE).\n",
    "</ol>\n",
    "\n",
    "Other algorithms have been used to solve this problem, highlighting \"Algorithm X\" by Donald Knuth. [5]"
   ]
  },
  {
   "cell_type": "markdown",
   "metadata": {},
   "source": [
    "In order to solve the problem a Hamiltonian of the system should be defined. For the exact cover problem, the objective is to find a subfamily where each element appears only once and that the union of the sets forms the universe. So we look for a Hamiltonian that presents its ground state for the exact cover set:\n",
    "\n",
    "\\begin{equation}\n",
    "H = \\sum_{element} \\left( 1 - \\sum\\limits_{\\substack{subset ~i ~that\\\\ includes ~ element}} X_i \\right)^2 \n",
    "\\end{equation}\n",
    "\n",
    "where $X_i$ is an operator which takes eigenvalues:\n",
    "\n",
    "\\begin{equation}\n",
    "x_i = \\begin{cases}\n",
    "      0 ~;~ if ~subset ~i ~is ~not ~included\\\\\n",
    "      1 ~;~ if ~subset ~i ~is ~included\n",
    "      \\end{cases}\n",
    "\\end{equation}\n",
    "\n",
    "It is clear that this Hamiltonians ground state represents the solution of the exact cover problem, so now the task reduces to find the algorithms necessary to find the ground state of a given Hamiltonian, which could be degenerated if several exact covers are possible."
   ]
  },
  {
   "cell_type": "code",
   "execution_count": 3,
   "metadata": {},
   "outputs": [],
   "source": [
    "#Construct the Hamiltonian operator of the problem (qubitOp) and a constant shift of the eigevalues (offset).\n",
    "#For our purpose it will create 4 qubits, as many as subsets in the family.\n",
    "qubitOp, offset = exact_cover.get_exact_cover_qubitops(list_of_subsets)\n",
    "\n",
    "#Generate a class (algo_input) which given an operator prepares the entry for the run_algorithm function: operator instance\n",
    "algo_input = EnergyInput(qubitOp)"
   ]
  },
  {
   "cell_type": "markdown",
   "metadata": {},
   "source": [
    "#### 1. Brute-froce method\n",
    "This method does not require a Hamiltonian and it basically consists in exhaustively try all the binary assignments. In each binary assignment, the entry of a subset is either 0 (meaning the subset is not in the cover) or 1 (meaning the subset is in the cover). We print the binary assignment that satisfies the definition of the exact cover."
   ]
  },
  {
   "cell_type": "code",
   "execution_count": 4,
   "metadata": {},
   "outputs": [
    {
     "name": "stdout",
     "output_type": "stream",
     "text": [
      "Solution is [0, 1, 1, 0]\n"
     ]
    }
   ],
   "source": [
    "def brute_force():\n",
    "    # brute-force way: try every possible assignment!\n",
    "    has_sol = False\n",
    "\n",
    "    #First define a function which transforms a integer to a list whose elements are the binary digits of the number\n",
    "    def bitfield(n, L):\n",
    "        result = np.binary_repr(n, L)\n",
    "        return [int(digit) for digit in result]  # [2:] to chop off the \"0b\" part\n",
    "\n",
    "    L = len(list_of_subsets)\n",
    "    max = 2**L\n",
    "    #Try every possible combination and check if it is an exact cover\n",
    "    for i in range(max):\n",
    "        cur = bitfield(i, L)\n",
    "        cur_v = exact_cover.check_solution_satisfiability(cur, list_of_subsets)\n",
    "        if cur_v:\n",
    "            has_sol = True\n",
    "            break\n",
    "    return has_sol, cur\n",
    "\n",
    "has_sol, cur = brute_force()\n",
    "if has_sol:\n",
    "    print(\"Solution is\", cur)\n",
    "else:\n",
    "    print(\"No solution is found\")\n",
    "\n"
   ]
  },
  {
   "cell_type": "markdown",
   "metadata": {},
   "source": [
    "#### 2. Optimization in the non-programming way."
   ]
  },
  {
   "cell_type": "code",
   "execution_count": 6,
   "metadata": {},
   "outputs": [
    {
     "name": "stderr",
     "output_type": "stream",
     "text": [
      "Failed to enable IBMQ account. Url:'https://quantumexperience.ng.bluemix.net/api' Token:'d99134c42331fe1359a22607643a0b8a604f5dc6e604e23eb7f8ffddc3ec5726df62bef7db896b4919994b3ad1cace1159784299c1da715f99c58264613f3582' Proxies:'{}' :Couldn't connect to IBMQ server: error during login: License required. You need to accept the License from Web Platform. https://quantumexperience.ng.bluemix.net\n"
     ]
    },
    {
     "name": "stdout",
     "output_type": "stream",
     "text": [
      "{'eigvals': array([-3.]), 'eigvecs': array([[0., 0., 0., 0., 0., 0., 0., 0., 0., 1., 0., 0., 0., 0., 0., 0.]]), 'energy': -3.0, 'wavefunction': array([[0., 0., 0., 0., 0., 0., 0., 0., 0., 1., 0., 0., 0., 0., 0., 0.]]), 'energies': array([-3.])}\n",
      "Solution is [0. 1. 1. 0.]\n"
     ]
    }
   ],
   "source": [
    "#Define the params of the problem and the algorithm which is going to be used for solving it. In this case, as it is wanted\n",
    "#to find the eigenvalues of the Hamiltonian defined we require the 'ExactEigensolver' algorithm. As no other argument is \n",
    "#introduced in ExactEigensolver it will only find the ground state.\n",
    "params = {\n",
    "    'problem': {'name': 'ising'},\n",
    "    'algorithm': {'name': 'ExactEigensolver'}\n",
    "}\n",
    "#Now the algorithm is run to find the eigenvalues and eigenvectors of the Hamiltonian.\n",
    "result = run_algorithm(params, algo_input)\n",
    "print(result)\n",
    "#Next, the most likely binary string from state vector is computed.\n",
    "x = exact_cover.sample_most_likely(len(list_of_subsets), result['eigvecs'][0])\n",
    "\n",
    "#Then we get the solution from the x array taking into account that qubit states are placed in the inverse order.\n",
    "ising_sol = exact_cover.get_solution(x)\n",
    "\n",
    "#Finally the solution is checked\n",
    "np.testing.assert_array_equal(ising_sol, [0, 1, 1, 0])\n",
    "if exact_cover.check_solution_satisfiability(ising_sol, list_of_subsets):\n",
    "    print(\"Solution is\", ising_sol)\n",
    "else:\n",
    "    print(\"No solution is found\")"
   ]
  },
  {
   "cell_type": "markdown",
   "metadata": {},
   "source": [
    "#### 3. Optimization in the programming way"
   ]
  },
  {
   "cell_type": "code",
   "execution_count": 7,
   "metadata": {},
   "outputs": [
    {
     "name": "stdout",
     "output_type": "stream",
     "text": [
      "Solution is [0. 1. 1. 0.]\n"
     ]
    }
   ],
   "source": [
    "#Run the algorithm used to find k eigenvalues of the operator given with no auxiliar operators. In our case, as we only want\n",
    "#to find the ground state k will take the value 1.\n",
    "algo = ExactEigensolver(qubitOp, k=1, aux_operators=[])\n",
    "result = algo.run()\n",
    "\n",
    "#Next, the most likely binary string from state vector is computed.\n",
    "x = exact_cover.sample_most_likely(len(list_of_subsets), result['eigvecs'][0])\n",
    "\n",
    "#Then we get the solution from the x array taking into account that qubit states are placed in the inverse order.\n",
    "ising_sol = exact_cover.get_solution(x)\n",
    "\n",
    "#Finally the solution is checked\n",
    "np.testing.assert_array_equal(ising_sol, [0, 1, 1, 0])\n",
    "\n",
    "if exact_cover.check_solution_satisfiability(ising_sol, list_of_subsets):\n",
    "    print(\"Solution is\", ising_sol)\n",
    "else:\n",
    "    print(\"No solution is found\")"
   ]
  },
  {
   "cell_type": "markdown",
   "metadata": {},
   "source": [
    "#### 4. Optimization with the Variational-Quantum-Eigensolver (VQE)\n",
    "\n",
    "The Variational-Quantum-Eigensolver (VQE) is a quantum/classical hybrid algorithm used to find the eigenvalues of a matrix $H$. In this hybrid algorithm a quantum subroutine is run inside of a classical optimization loop. [6]\n",
    "\n",
    "The quantum subroutine has two fundamental steps:\n",
    "<ol>\n",
    "    <li> Prepare the quantum state $|\\psi(\\vec{\\theta})⟩$, often called the ansatz.\n",
    "    <li> Measure the expectation value: $\\langle \\psi(\\vec{\\theta}) | H | \\psi(\\vec{\\theta}) \\rangle$\n",
    "</ol>\n",
    "\n",
    "From the variational principle we know that this expectation value is always greater that the ground state of $H$. This bound allows us to use classical computation to run an optimization loop to find this eigenvalue:\n",
    "<ol>\n",
    "    <li> Use a classical non-linear optimizer to minimize the expectation value by varying ansatz parameters $\\vec{\\theta}$.\n",
    "    <li> Iterate until convergence.\n",
    "</ol>"
   ]
  },
  {
   "cell_type": "code",
   "execution_count": 8,
   "metadata": {},
   "outputs": [
    {
     "name": "stderr",
     "output_type": "stream",
     "text": [
      "Failed to enable IBMQ account. Url:'https://quantumexperience.ng.bluemix.net/api' Token:'d99134c42331fe1359a22607643a0b8a604f5dc6e604e23eb7f8ffddc3ec5726df62bef7db896b4919994b3ad1cace1159784299c1da715f99c58264613f3582' Proxies:'{}' :Couldn't connect to IBMQ server: error during login: License required. You need to accept the License from Web Platform. https://quantumexperience.ng.bluemix.net\n",
      "Failed to enable IBMQ account. Url:'https://quantumexperience.ng.bluemix.net/api' Token:'d99134c42331fe1359a22607643a0b8a604f5dc6e604e23eb7f8ffddc3ec5726df62bef7db896b4919994b3ad1cace1159784299c1da715f99c58264613f3582' Proxies:'{}' :Couldn't connect to IBMQ server: error during login: License required. You need to accept the License from Web Platform. https://quantumexperience.ng.bluemix.net\n",
      "Failed to enable IBMQ account. Url:'https://quantumexperience.ng.bluemix.net/api' Token:'d99134c42331fe1359a22607643a0b8a604f5dc6e604e23eb7f8ffddc3ec5726df62bef7db896b4919994b3ad1cace1159784299c1da715f99c58264613f3582' Proxies:'{}' :Couldn't connect to IBMQ server: error during login: License required. You need to accept the License from Web Platform. https://quantumexperience.ng.bluemix.net\n",
      "Failed to enable IBMQ account. Url:'https://quantumexperience.ng.bluemix.net/api' Token:'d99134c42331fe1359a22607643a0b8a604f5dc6e604e23eb7f8ffddc3ec5726df62bef7db896b4919994b3ad1cace1159784299c1da715f99c58264613f3582' Proxies:'{}' :Couldn't connect to IBMQ server: error during login: License required. You need to accept the License from Web Platform. https://quantumexperience.ng.bluemix.net\n"
     ]
    },
    {
     "name": "stdout",
     "output_type": "stream",
     "text": [
      "Solution is [0. 1. 1. 0.]\n"
     ]
    }
   ],
   "source": [
    "#The Variational-Quantum-Eigensolver (VQE) algorithm is selected\n",
    "\n",
    "algorithm_cfg = {\n",
    "    'name': 'VQE',\n",
    "    'operator_mode': 'matrix'\n",
    "}\n",
    "\n",
    "#Constrained optimization by linear approximation (COBYLA) is a numerical optimization method for constrained problems \n",
    "#where the derivative of the objective function is not known.\n",
    "#https://en.wikipedia.org/wiki/COBYLA\n",
    "\n",
    "optimizer_cfg = {\n",
    "    'name': 'COBYLA'\n",
    "}\n",
    "\n",
    "#The RyRz trial wave function is layers of y plus z rotations with entanglements.\n",
    "#https://qiskit.org/documentation/aqua/variational_forms.html\n",
    "\n",
    "var_form_cfg = {\n",
    "    'name': 'RYRZ',\n",
    "    'depth': 5\n",
    "}\n",
    "\n",
    "#Now the params are defined\n",
    "params = {\n",
    "    'problem': {'name': 'ising', 'random_seed': 10598},\n",
    "    'algorithm': algorithm_cfg,\n",
    "    'optimizer': optimizer_cfg,\n",
    "    'variational_form': var_form_cfg\n",
    "}\n",
    "\n",
    "#Finally we use the 'statevector_simulator' backend to simulate\n",
    "backend = Aer.get_backend('statevector_simulator')\n",
    "result = run_algorithm(params, algo_input, backend=backend)\n",
    "x = exact_cover.sample_most_likely(len(list_of_subsets), result['eigvecs'][0])\n",
    "ising_sol = exact_cover.get_solution(x)\n",
    "if exact_cover.check_solution_satisfiability(ising_sol, list_of_subsets):\n",
    "    print(\"Solution is\", ising_sol)\n",
    "else:\n",
    "    print(\"No solution is found\")"
   ]
  },
  {
   "cell_type": "markdown",
   "metadata": {},
   "source": [
    "## Bibliography\n",
    "\n",
    "https://stackoverflow.com/questions/1857244/what-are-the-differences-between-np-np-complete-and-np-hard\n",
    "\n",
    "**[1]** Sipser, M. (1992, July). The history and status of the P versus NP question. In Proceedings of the twenty-fourth annual ACM symposium on Theory of computing (pp. 603-618). ACM.\n",
    "\n",
    "**[2]** NP-Completeness | Set 1 (Introduction). (2018, September 07). Retrieved from https://www.geeksforgeeks.org/np-completeness-set-1/\n",
    "\n",
    "**[3]** P versus NP problem. (2019, January 13). Retrieved from https://en.wikipedia.org/wiki/P_versus_NP_problem\n",
    "\n",
    "**[4]** UNIVERSITY OF PENNSYLVANIA, S. (2017). Chapter 10. Some NP-Complete Problems.\n",
    "\n",
    "**[5]** Exact Cover Problem and Algorithm X | Set 1. (2018, February 15). Retrieved from https://www.geeksforgeeks.org/exact-cover-problem-algorithm-x-set-1/\n",
    "\n",
    "**[6]** Variational-Quantum-Eigensolver (VQE)¶. (n.d.). Retrieved from https://grove-docs.readthedocs.io/en/latest/vqe.html\n",
    "\n",
    "**[7]** Qiskit. (2019, February 11). Qiskit/qiskit-tutorials. Retrieved from https://github.com/Qiskit/qiskit-tutorials"
   ]
  }
 ],
 "metadata": {
  "kernelspec": {
   "display_name": "Python (Qiskit)",
   "language": "python",
   "name": "qiskit"
  },
  "language_info": {
   "codemirror_mode": {
    "name": "ipython",
    "version": 3
   },
   "file_extension": ".py",
   "mimetype": "text/x-python",
   "name": "python",
   "nbconvert_exporter": "python",
   "pygments_lexer": "ipython3",
   "version": "3.7.3"
  },
  "latex_envs": {
   "LaTeX_envs_menu_present": true,
   "autoclose": false,
   "autocomplete": true,
   "bibliofile": "biblio.bib",
   "cite_by": "apalike",
   "current_citInitial": 1,
   "eqLabelWithNumbers": true,
   "eqNumInitial": 1,
   "hotkeys": {
    "equation": "Ctrl-E",
    "itemize": "Ctrl-I"
   },
   "labels_anchors": false,
   "latex_user_defs": false,
   "report_style_numbering": false,
   "user_envs_cfg": false
  }
 },
 "nbformat": 4,
 "nbformat_minor": 2
}
