{
 "cells": [
  {
   "cell_type": "raw",
   "metadata": {},
   "source": [
    "import numpy as np\n",
    "from scipy.optimize import minimize\n",
    "Nfeval = 1\n",
    "\n",
    "def rosen(X): #Rosenbrock function\n",
    "    return (1.0 - X[0])**2 + 100.0 * (X[1] - X[0]**2)**2 + \\\n",
    "           (1.0 - X[1])**2 + 100.0 * (X[2] - X[1]**2)**2\n",
    "\n",
    "def callbackF(Xi):\n",
    "    global Nfeval\n",
    "    print('{0:4d}   {1: 3.6f}   {2: 3.6f}   {3: 3.6f}   {4: 3.6f}'.format(Nfeval, Xi[0], Xi[1], Xi[2], rosen(Xi)))\n",
    "    Nfeval += 1\n",
    "\n",
    "print('{0:4s}   {1:9s}   {2:9s}   {3:9s}   {4:9s}'.format('Iter', ' X1', ' X2', ' X3', 'f(X)')) \n",
    "x0 = np.array([1.1, 1.1, 1.1], dtype=np.double)\n",
    "a = \\\n",
    "    minimize(rosen, \n",
    "              x0,\n",
    "              method = 'SLSQP',\n",
    "              callback=callbackF)\n",
    "\n"
   ]
  },
  {
   "cell_type": "markdown",
   "metadata": {},
   "source": [
    "## Bibliography\n",
    "\n",
    "**[1]** Variational-Quantum-Eigensolver (VQE)¶. (n.d.). Retrieved February 25, 2019, from https://grove-docs.readthedocs.io/en/latest/vqe.html\n",
    "\n",
    "**[2]** IBM. (n.d.). Qiskit Documentation¶. Retrieved February 25, 2019, from https://qiskit.org/documentation/aqua/algorithms.html\n",
    "\n",
    "https://docs.scipy.org/doc/scipy/reference/generated/scipy.optimize.minimize.html#rdd2e1855725e-12\n",
    "\n",
    "https://qiskit.org/documentation/autodoc/qiskit_aqua.components.variational_forms.ry.html\n",
    "\n",
    "https://en.wikipedia.org/wiki/Sequential_quadratic_programming"
   ]
  }
 ],
 "metadata": {
  "kernelspec": {
   "display_name": "Python 3",
   "language": "python",
   "name": "python3"
  },
  "language_info": {
   "codemirror_mode": {
    "name": "ipython",
    "version": 3
   },
   "file_extension": ".py",
   "mimetype": "text/x-python",
   "name": "python",
   "nbconvert_exporter": "python",
   "pygments_lexer": "ipython3",
   "version": "3.7.3"
  },
  "latex_envs": {
   "LaTeX_envs_menu_present": true,
   "autoclose": false,
   "autocomplete": true,
   "bibliofile": "biblio.bib",
   "cite_by": "apalike",
   "current_citInitial": 1,
   "eqLabelWithNumbers": true,
   "eqNumInitial": 1,
   "hotkeys": {
    "equation": "Ctrl-E",
    "itemize": "Ctrl-I"
   },
   "labels_anchors": false,
   "latex_user_defs": false,
   "report_style_numbering": false,
   "user_envs_cfg": false
  },
  "toc": {
   "base_numbering": 1,
   "nav_menu": {},
   "number_sections": true,
   "sideBar": true,
   "skip_h1_title": false,
   "title_cell": "Table of Contents",
   "title_sidebar": "Contents",
   "toc_cell": false,
   "toc_position": {},
   "toc_section_display": true,
   "toc_window_display": true
  }
 },
 "nbformat": 4,
 "nbformat_minor": 2
}
