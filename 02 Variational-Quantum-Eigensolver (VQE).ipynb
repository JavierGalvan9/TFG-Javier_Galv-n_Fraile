{
 "cells": [
  {
   "cell_type": "markdown",
   "metadata": {},
   "source": [
    "# Variational-Quantum-Eigensolver (VQE)"
   ]
  },
  {
   "cell_type": "markdown",
   "metadata": {},
   "source": [
    "VQE is a hybrid algorithm that uses the variational approach and interleaves quantum and classical computations in order to find  eigenvalueS of the Hamiltonian $H$ of a given system. "
   ]
  },
  {
   "cell_type": "markdown",
   "metadata": {},
   "source": [
    "## Variational Principle\n",
    "\n",
    "Suppose we are given a Hilbert space and a Hermitian operator over it called the Hamiltonian $H$. Considering discrete spectrum of $H$ and the corresponding eigenspaces of each eigenvalue $\\lambda$:\n",
    "\n",
    "\\begin{equation}\n",
    "\\langle \\psi_{\\lambda_1}|\\psi_{\\lambda_2} \\rangle = \\delta_{\\lambda_1 \\lambda_2}\n",
    "\\end{equation}\n",
    "\n",
    "where $\\delta_{ij}$ is the Kronecker delta. The Hamiltonian is related to $\\lambda$ through the eigenvalue equation:\n",
    "\n",
    "\\begin{equation}\n",
    "\\hat{H} |\\psi_{\\lambda} \\rangle = \\lambda |\\psi_{\\lambda} \\rangle\n",
    "\\end{equation}\n",
    "\n",
    "Consider that $H$ spectrum is bounded from below and that its greatest lower bound is $E_0$. Suppose also that we know the corresponding state $|\\psi \\rangle$. The expectation value of $H$ is then:\n",
    "\n",
    "\\begin{equation}\n",
    "\\langle H \\rangle = \\langle \\psi| H |\\psi \\rangle = \\sum_{\\lambda_1, \\lambda_2} \\langle \\psi | \\psi_{\\lambda_1} \\rangle \\langle \\psi_{\\lambda_1}| H |\\psi_{\\lambda_2} \\rangle \\langle \\psi_{\\lambda_2} | \\psi \\rangle = \\sum_{\\lambda} \\lambda |\\langle \\psi_{\\lambda}|\\psi\\rangle|^2 \\geq \\sum_{\\lambda} E_0 |\\langle \\psi_{\\lambda}|\\psi\\rangle|^2 = E_0\n",
    "\\end{equation}\n",
    "\n",
    "Obviously, if we were to vary over all possible states with norm 1 trying to minimize the expectation value of $H$, the lowest value would be $E_0$ and the corresponding state would be an eigenstate of $E_0$. Varying over the entire Hilbert space is usually too complicated for physical calculations, and a subspace of the entire Hilbert space is chosen, parametrized by some (real) differentiable parameters $\\vec{\\alpha}$ . The choice of the subspace is called the **ansatz**. Some choices of ansatzes lead to better approximations than others, therefore the choice of ansatz is important.\n",
    "\n",
    "Let's assume there is some overlap between the ansatz and the ground state (otherwise, it's a bad ansatz). We still wish to normalize the ansatz, so we have the constraints:\n",
    "\n",
    "\\begin{equation}\n",
    "\\langle \\psi(\\alpha_i)|\\psi(\\alpha_i) \\rangle = 1\n",
    "\\end{equation}\n",
    "\n",
    "and we wish to minimize:\n",
    "\n",
    "\\begin{equation}\n",
    "\\epsilon(\\alpha_i) = \\langle \\psi(\\alpha_i)| H |\\psi(\\alpha_i) \\rangle\n",
    "\\end{equation}\n",
    "\n",
    "If $\\psi (\\alpha_i)$ is expressed as a linear combination of other functions ($\\alpha_i$ being the coefficients), as in the *Ritz method*, there is only one minimum and the problem is straightforward. There are other, non-linear methods, however, such as the *Hartree–Fock method*, that are also not characterized by a multitude of minima and are therefore comfortable in calculations.\n",
    "\n",
    "There is an additional complication in the calculations described. As ε tends toward E0 in minimization calculations, there is no guarantee that the corresponding trial wavefunctions will tend to the actual wavefunction. \n",
    "\n",
    "Although usually limited to calculations of the ground state energy, this method can be applied in certain cases to calculations of excited states as well. If the ground state wavefunction is known, either by the method of variation or by direct calculation, a subset of the Hilbert space can be chosen which is orthogonal to the ground state wavefunction.\n",
    "\n",
    "\\begin{equation}\n",
    "|\\psi \\rangle = |\\psi_{test} \\rangle - \\langle \\psi_{ground} | \\psi_{test} \\rangle | \\psi_{ground} \\rangle\n",
    "\\end{equation}\n",
    "\n",
    "The resulting minimum is usually not as accurate as for the ground state, as any difference between the true ground state and $\\psi _{ground}$ results in a lower excited energy. This defect is worsened with each higher excited state."
   ]
  },
  {
   "cell_type": "markdown",
   "metadata": {},
   "source": [
    "## VQE in Qiskit\n",
    "\n",
    "The Variational-Quantum-Eigensolver (VQE) is a quantum/classical hybrid algorithm used to find the eigenvalues of a matrix $H$. \n",
    "\n",
    "An instance of VQE requires defining three algorithmic subcomponents: \n",
    "\n",
    "<ol>\n",
    "    <li> A trial function from Aqua’s Variational Forms library.\n",
    "    <li> A classical optimizer from Aqua’s Optimizers library.\n",
    "    <li> An initial state from Aqua’s Initial States library in order to define the starting state for the trial function.\n",
    "</ol>\n",
    "\n",
    " In this hybrid algorithm a quantum subroutine is run inside of a classical optimization loop. The quantum subroutine has two fundamental steps:\n",
    " \n",
    "<ol>\n",
    "    <li> Prepare the quantum state $|\\psi (\\vec{\\theta})\\rangle$, often called the ansatz.\n",
    "    <li> Measure the expectation value $\\langle \\psi (\\vec{\\theta})|H|\\psi (\\vec{\\theta}) \\rangle$.\n",
    "</ol>\n",
    "\n",
    "The *variational principle* ensures that this expectation value is always greater than the smallest eigenvalue of H. This bound allows us to use classical computation to run an optimization loop to find this eigenvalue:\n",
    "\n",
    "<ol>\n",
    "    <li> Use a classical non-linear optimizer to minimize the expectation value by varying ansatz parameters $\\vec{\\theta}$.\n",
    "    <li> Iterate until convergence.\n",
    "</ol>"
   ]
  },
  {
   "cell_type": "markdown",
   "metadata": {},
   "source": [
    "The depth of a circuit is the number of time steps required, assuming that gates acting on distinct bits can operate simultaneously (that is, the depth is the maximum length of adirected path from the input to the output of the circuit). The width of a circuit, the maximum number of gates (including identity gates acting on“resting” bits) that act in any one time step, quantifies the storage spaceused to execute the computation."
   ]
  },
  {
   "cell_type": "markdown",
   "metadata": {},
   "source": [
    "## Bibliography\n",
    "\n",
    "**[1]** Variational-Quantum-Eigensolver (VQE)¶. (n.d.). Retrieved February 25, 2019, from https://grove-docs.readthedocs.io/en/latest/vqe.html\n",
    "\n",
    "**[2]** IBM. (n.d.). Qiskit Documentation¶. Retrieved February 25, 2019, from https://qiskit.org/documentation/aqua/algorithms.html\n",
    "\n",
    "**[3]** Variational method (quantum mechanics). (2019, February 22). Retrieved February 25, 2019, from https://en.wikipedia.org/wiki/Variational_method_(quantum_mechanics)\n",
    "\n",
    "https://arxiv.org/pdf/1304.3061.pdf\n",
    "\n",
    "https://sci-hub.tw/https://doi.org/10.1038/nature23879\n",
    "\n",
    "https://arxiv.org/pdf/1802.00171.pdf"
   ]
  }
 ],
 "metadata": {
  "kernelspec": {
   "display_name": "Python 3",
   "language": "python",
   "name": "python3"
  },
  "language_info": {
   "codemirror_mode": {
    "name": "ipython",
    "version": 3
   },
   "file_extension": ".py",
   "mimetype": "text/x-python",
   "name": "python",
   "nbconvert_exporter": "python",
   "pygments_lexer": "ipython3",
   "version": "3.7.3"
  },
  "latex_envs": {
   "LaTeX_envs_menu_present": true,
   "autoclose": false,
   "autocomplete": true,
   "bibliofile": "biblio.bib",
   "cite_by": "apalike",
   "current_citInitial": 1,
   "eqLabelWithNumbers": true,
   "eqNumInitial": 1,
   "hotkeys": {
    "equation": "Ctrl-E",
    "itemize": "Ctrl-I"
   },
   "labels_anchors": false,
   "latex_user_defs": false,
   "report_style_numbering": false,
   "user_envs_cfg": false
  },
  "toc": {
   "base_numbering": 1,
   "nav_menu": {},
   "number_sections": true,
   "sideBar": true,
   "skip_h1_title": false,
   "title_cell": "Table of Contents",
   "title_sidebar": "Contents",
   "toc_cell": false,
   "toc_position": {},
   "toc_section_display": true,
   "toc_window_display": true
  }
 },
 "nbformat": 4,
 "nbformat_minor": 2
}
