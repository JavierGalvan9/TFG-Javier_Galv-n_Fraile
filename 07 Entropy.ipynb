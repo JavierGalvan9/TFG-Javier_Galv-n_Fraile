{
 "cells": [
  {
   "cell_type": "markdown",
   "metadata": {},
   "source": [
    "## Density operator\n",
    "\n",
    "An operator defined as it follows:\n",
    "\n",
    "\\begin{equation}\n",
    "\\label{eq:density}\n",
    "\\rho = \\sum_j p_j |\\psi_j\\rangle \\langle\\psi_j|\n",
    "\\end{equation}\n",
    "\n",
    "is the density operator associated to some ensemble $p_j, |\\psi_j\\rangle$ if and only if it satisfies the conditions:\n",
    "\n",
    "* Trace condtion: $tr(\\rho) = 1$\n",
    "* Positivity: $\\rho$ is a positive operator\n",
    "\n",
    "This conditions require that the coefficients $p_j$ are non-negative and add up to one. In this case, the density operator \\eqref{eq:density} represents a mixed state with propability $p_j$ that the system is in the pure state $|\\psi_j\\rangle$. "
   ]
  },
  {
   "cell_type": "markdown",
   "metadata": {},
   "source": [
    "## Entanglement\n",
    "\n",
    "\\begin{definition}\n",
    "A mixed state $\\rho_{AB}$ is *separable* if and only if it can be represented as a convex combination of the product of projectors on local states as stated in the following expression:\n",
    "\n",
    "\\begin{equation}\n",
    "\\label{eq:entaglement}\n",
    "\\rho_{AB} = \\sum_{i=1}^K |e\\rangle_i\\langle e| \\otimes |f\\rangle_i\\langle f| \n",
    "\\end{equation}\n",
    "\n",
    "Otherwise, the mixed state is said to be *entangled*.\n",
    "\\end{definition}\n",
    "\n",
    "It should be noticed that \\eqref{eq:entaglement} is the most general state that Alice and Bob can prepare by local quantum operations and classcial communication (LOCC). Therefore, entangled states can not be prepared locally by two parties, physical systems must be brought together to interact, which means that a nonlocal unitary operator must necessarily act in the physical system to produce an entangled state. Besides, the \"level of entaglement\" is bounded and cannot be infinitely increased by nonlocal trasnformations.\n",
    "\n",
    "Entangled states are very interesting states because they exhibit correlations that have no classical analog. They are of particular importance in quantum computation and quantum information. As an example let us take the entangled bi-partite pure state:\n",
    "\n",
    "\\begin{equation}\n",
    "|\\psi^+\\rangle = \\frac{1}{\\sqrt{2}} (|01\\rangle_{AB} + |10\\rangle_{AB}) \\in H_A \\otimes H_B\n",
    "\\end{equation}\n",
    "\n",
    "This state can not be decomposed as a simple product state $|q\\rangle_A |p\\rangle_B$ for $q, p \\in \\{0, 1\\}$. The state is maximally entangled, i.e. when we trace over the state $B$ then the reduced density operator $\\rho_A$ of the system will be a multiple of the identity operator. This means that if we measure in system $A$ in any basis the result will be completely  random (0 or 1 with equal probability 1/2). However, there is a perfect correlation: Whenever we measure 1 in system A then we will measure 0 in system $B$ with certainty and vice versa."
   ]
  },
  {
   "cell_type": "markdown",
   "metadata": {},
   "source": [
    "So lets consider a system constituted of $N$ qubits. The general wave function of the system will be:\n",
    "\n",
    "\\begin{equation}\n",
    "|\\psi\\rangle = \\sum_{s_1, ..., s_N \\in \\{0, 1\\}} \\langle s_1, ..., s_N|\\psi \\rangle ~| s_1, ..., s_N\\rangle \n",
    "\\label{eq:global}\n",
    "\\end{equation}\n",
    "\n",
    "where the closure relation of the computational basis have been used. In the general case a total amount of $2^N$ coeficients are necessary to fully describe the state of the system. Suppose now the case where the general wave function can be written as the product of the states of two subsystems:\n",
    "\n",
    "\\begin{equation}\n",
    "|\\psi\\rangle = |\\phi_1 \\rangle \\otimes |\\phi_2 \\rangle\n",
    "\\end{equation}\n",
    "\n",
    "where $|\\phi_1 \\rangle$ is the state of the first $M$ qubits $\\{q_1,..., q_M\\}$ and $|\\phi_2 \\rangle$ the state of the $N- M$ following qubits $\\{q_{M+1},..., q_N\\}$. In this case the total amount of coeficients necessary to characterize all the system is:\n",
    "\n",
    "\\begin{equation}\n",
    "\\# = 2^{M} + 2^{N-M}\n",
    "\\end{equation}\n",
    "\n",
    "which is exponentially less than in the general case above."
   ]
  },
  {
   "cell_type": "markdown",
   "metadata": {},
   "source": [
    "Las transformaciones locales no aumentan el entrelazamiento (ni la entropía por lo tanto), al contrario que las globales que sí lo hacen. Pero presentan una cota superior, es decir, aumentando el número de operaciones globales (CNOTs, etc.) podemos aumentar el entrelazamiento del sistema."
   ]
  },
  {
   "cell_type": "markdown",
   "metadata": {},
   "source": [
    "## Schmidt decomposition\n",
    "\n",
    "The Schmidt decomposition is one of the most important tools for analyzing bipartite pure states in quantum information theory and quantifying the level of entanglement of the system. The Schmidt decomposition shows that it is possible to decompose any pure bipartite state as a superposition of corresponding states. We state this result formally as the following theorem:\n",
    "\n",
    "\\begin{theorem}[Schmidt decomposition.]\n",
    "Suppose $|\\psi\\rangle_{AB}$ is a pure state of a composite system, AB. \n",
    "\n",
    "\\begin{equation}\n",
    "|\\psi\\rangle_{AB} \\in \\mathscr{H}_A \\otimes \\mathscr{H}_B\n",
    "\\end{equation}\n",
    "\n",
    "Then there exist orthonormal states $|i\\rangle_A$ for system A, and orthonormal states $|i\\rangle_B$ of system B such that the pure state can be expressed as:\n",
    "\n",
    "\\begin{equation}\n",
    "\\label{eq:schmidt}\n",
    "|\\psi\\rangle_{AB} = \\sum_{i=1}^{d} \\lambda_i |i\\rangle_A |i\\rangle_B \n",
    "\\end{equation}\n",
    "\n",
    "where the amplitudes $\\lambda_i$ are real, strictly positive and normalized so that $\\sum_i \\lambda_i^2 = 1$. They are known as **Schmidt coefficients**. The **Schmidt rank**, $d$, of a bipartite state, also known as **Schmidt number**, is equal to the number of non-zero Schmidt coefficients $\\lambda_i$ in the state Schmidt decomposition. \n",
    "\\end{theorem}\n",
    "\n",
    "**Proof.**\n",
    "*Consider a composite systems A and B with dimensions $n$ and $m$, respectively, where $n \\geq m$. Let $\\{|j\\rangle_A\\}$ and $\\{|k\\rangle_B\\}$ be any fixed orthonormal basis for systems A and B. Then the global state $|\\psi_{AB}\\rangle$ can be written as:*\n",
    "\n",
    "\\begin{equation}\n",
    "\\label{eq:proofstate}\n",
    "|\\psi\\rangle_{AB} = \\sum_{j=1}^{n} \\sum_{k=1}^{m} \\alpha_{jk} |j\\rangle_A |k\\rangle_B \n",
    "\\end{equation}\n",
    "\n",
    "*Lets consider now the matrix formed by the complex coefficients $\\alpha_{jk}$ which is an $n \\times m$ matrix:*\n",
    "\n",
    "\\begin{equation}\n",
    "[A_{jk}] = \\alpha_{jk}\n",
    "\\end{equation}\n",
    "\n",
    "*Since every matrix has a singular value decomposition (SVD) for $A$ we can write:*\n",
    "\n",
    "\\begin{equation}\n",
    "\\label{eq:proof1}\n",
    "A = U \\Lambda V^{\\dagger}\n",
    "\\end{equation}\n",
    "\n",
    "*where $U$ is a $n \\times n$ unitary matrix, $V$ is a $m \\times m$ unitary matrix and $\\Sigma$ is a $n \\times m$ matrix with $d$ real, strictly positive coefficients $\\lambda_i$ along the diagonal and zeros elsewhere. If we denote the matrix elements of $U$ as $u_{ji}$ and those of $V$ as $v_{ik}$ the above matrix equation \\eqref{eq:proof1} is equivalent to the following set of equations:*\n",
    "\n",
    "\\begin{equation}\n",
    "\\label{eq:proof3}\n",
    "\\alpha_{jk} = \\sum_{i=1}^{d} u_{ji} \\lambda_i v_{ik}\n",
    "\\end{equation}\n",
    "\n",
    "*Making this substitution into the expression for the state \\eqref{eq:proofstate} we get:*\n",
    "\n",
    "\\begin{equation}\n",
    "|\\psi\\rangle_{AB} = \\sum_{j=1}^{n} \\sum_{k=1}^{m} \\left(\\sum_{i=1}^{d} u_{ji} \\lambda_i v_{ik}\\right) |j\\rangle_A |k\\rangle_B\n",
    "\\end{equation}\n",
    "\n",
    "*Readjusting the terms we find that:*\n",
    "\n",
    "\\begin{equation}\n",
    "|\\psi\\rangle_{AB} = \\sum_{i=1}^{d} \\lambda_i \\left(\\sum_{j=1}^{n} u_{ji} |j\\rangle_A \\right) \\otimes \\left(\\sum_{k=1}^{m} v_{ik}  |k\\rangle_B \\right) =\\\\\n",
    "= \\sum_{i=1}^{d} \\lambda_i |i\\rangle_A |i\\rangle_B\n",
    "\\end{equation}\n",
    "\n",
    "*where we define the orthonormal basis on system A as $|i\\rangle_A \\equiv \\sum_{j=1}^{n} u_{ji} |j\\rangle_A$ and the orthonormal basis on system B as $|i\\rangle_B \\equiv \\sum_{k=1}^{m} v_{ik}  |k\\rangle_B$.* Q.E.D.\n",
    "\n",
    "It is easy to see that setting the normalization condition over the state $|\\psi\\rangle_{AB}$ requires that the Schmidt coefficients satisfy the relation:\n",
    "\n",
    "\\begin{equation}\n",
    "\\sum_{i=1}^{d} \\lambda_i^2 = 1\n",
    "\\end{equation}\n",
    "\n",
    "\\begin{remark}\n",
    "The Schmidt rank, $d$, satifies the following inequality:\n",
    "\n",
    "\\begin{equation}\n",
    "d \\leq min \\{ dim(\\mathscr{H}_A), dim(\\mathscr{H}_B) \\}\n",
    "\\end{equation}\n",
    "\n",
    "This quantity, the total number of non-zero values $\\lambda_i$, is known as **Schmidt number** and represents a crucial magnitude in the study of the entanglement of the system. It can be proved that Schmidt number is preserved under unitary transformations on system A or system B alone.\n",
    "\n",
    "It is easy to prove that a state $|\\psi\\rangle$ of a composite system AB is a product state if and only if it has Schmidt number 1.\n",
    "\\end{remark}"
   ]
  },
  {
   "cell_type": "markdown",
   "metadata": {},
   "source": [
    "\\begin{remark}\n",
    "The sets $\\{|i\\rangle_A\\}$ and $\\{|i\\rangle_B\\}$ are orthonormal basis of systems A and B, respectively.\n",
    "\\end{remark}\n",
    "\n",
    "**Proof.**\n",
    "*Starting with system A we remember that $dim(\\mathscr{H}_A) = n$ and that we have defined $|i\\rangle_A$ as:*\n",
    "\n",
    "\\begin{equation}\n",
    "|i\\rangle_A \\equiv \\sum_{j=1}^{n} u_{ji} |j\\rangle_A\n",
    "\\end{equation}\n",
    "\n",
    "*where $|j\\rangle_A$ constitutes a basis of system A. Since $i$ varies from $1$ to $d$ we see that $dim(\\{|i\\rangle\\}) = d$, where notation related to the system has been omitted. Lets see that this set satisfies the orthonormal relation:*\n",
    "\n",
    "\\begin{equation}\n",
    "\\langle l|i\\rangle = \\left( \\sum_{k=1}^{n} u_{lk}^{*} \\langle k|\\right) \\left(\\sum_{j=1}^{n} u_{ji} |j\\rangle \\right) =\\\\ \n",
    "= \\sum_{k=1}^{n} \\sum_{j=1}^{n} u_{lk}^{*} u_{ji} \\langle k|j\\rangle =\\\\\n",
    "= \\sum_{k=1}^{n} \\sum_{j=1}^{n} u_{lk}^{*} u_{ji} \\delta_{kj} =\\\\\n",
    "= \\sum_{k=1}^{n} u_{lk}^{*} u_{ki} = \\delta_{li}\n",
    "\\end{equation}\n",
    " \n",
    "*where the unitary matrix condition has been used in the last step. We then have a set of $d \\leq n$ orthonormal states. Selecting the other $n-d$ states satisfying the orthonormal condition as was stated before we get a basis of system A.*\n",
    "\n",
    "*For system B the same steps must be followed achieving the same result.* Q.E.D."
   ]
  },
  {
   "cell_type": "markdown",
   "metadata": {},
   "source": [
    "\\begin{lemma}\n",
    "The Schmidt decomposition applies not only to bipartite systems but to any number of systems where we can make a bipartite cut of the systems. For example, suppose that there is a state $|\\phi\\rangle_{ABCDE}$ on systems ABCDE. We could say that AB are part of one system and CDE are part of another system and write a Schmidt decomposition for this state as follows:\n",
    "\n",
    "\\begin{equation}\n",
    "|\\phi\\rangle_{ABCDE} = \\sum_{y} \\beta_y |y\\rangle_{AB} |y\\rangle_{CDE}\n",
    "\\end{equation}\n",
    "\n",
    "where $\\{|y\\rangle_{AB}\\}$ is an orthonormal basis for the joint system AB and $\\{|y\\rangle_{CDE}\\}$ is an orthonormal basis for the joint system CDE.\n",
    "\\end{lemma}"
   ]
  },
  {
   "cell_type": "markdown",
   "metadata": {},
   "source": [
    "\\begin{lemma}\n",
    "The Schmidt decomposition does not apply for partitions bigger than two. Suppose for example a three component quantum system ABC, then it can be shown that some quantum states $|\\psi\\rangle$ of this system can not be written in the form:\n",
    "\n",
    "\\begin{equation}\n",
    "|\\phi\\rangle_{ABC} = \\sum_{i} \\lambda_i |i\\rangle_A |i\\rangle_B |i\\rangle_C\n",
    "\\end{equation}\n",
    "\n",
    "where $\\lambda_i$ are real coefficients, and $|i\\rangle_A$, $|i\\rangle_B$ and $|i\\rangle_C$ are orthonormal basis of the respective systems.\n",
    "\\end{lemma}"
   ]
  },
  {
   "cell_type": "markdown",
   "metadata": {},
   "source": [
    "\\begin{corollary}\n",
    "Given a composite system AB, the reduced density operators $\\rho_A$ and $\\rho_B$ can be described in terms of the Schmidt coefficients and the basis $\\{|i\\rangle_A \\}$ and $\\{|i\\rangle_B \\}$. This shows that the reduced density operators provides correct measurements statistics for measurements on their respective systems.\n",
    "\\end{corollary}\n",
    "\n",
    "**Proof.**\n",
    "*The density operator of the composite system is given by:*\n",
    "\n",
    "\\begin{equation}\n",
    "\\label{eq:rho_schmidt}\n",
    "\\rho_{AB} = |\\psi\\rangle_{AB}\\langle \\psi|\n",
    "\\end{equation}\n",
    "\n",
    "*Where $|\\psi\\rangle_{AB}$ can be written in its Schmidt decomposition \\eqref{eq:schmidt} resulting in the density operator:*\n",
    "\n",
    "\\begin{equation}\n",
    "\\label{eq:rho_schmidt2}\n",
    "\\rho_{AB} = \\sum_{i, j = 1}^{d} \\lambda_i \\lambda_j (|i\\rangle_A \\langle j|) \\otimes (|i\\rangle_B \\langle j|)\n",
    "\\end{equation}\n",
    "\n",
    "*Then, the reduced density operator for system A is:*\n",
    "\n",
    "\\begin{equation}\n",
    "\\rho_{A} = \\mathrm{Tr_B} (\\rho_{AB}) = \\sum_{k=1}^{d} \\sideset{_B}{}\\langle k| \\left( \\sum_{i, j = 1}^{d} \\lambda_i \\lambda_j (|i\\rangle_A \\langle j|) \\otimes (|i\\rangle_B \\langle j|) \\right) |k\\rangle_B =\\\\\n",
    "= \\sum_{k=1}^{d} \\sum_{i, j = 1}^{d} \\lambda_i \\lambda_j \\delta_{ik} \\delta_{jk} (|i\\rangle_A \\langle j|) =\\\\\n",
    "= \\sum_{k=1}^{d} \\lambda_k^2 (|k\\rangle_A \\langle k|)\n",
    "\\end{equation}\n",
    "\n",
    "*where the ortonormalization relation of states $\\{|i\\rangle_A \\}$ and $\\{|i\\rangle_B \\}$ has been used. Proceeding in the same way for the reduced density operator of system B the following result is obtained:*\n",
    "\n",
    "\\begin{equation}\n",
    "\\rho_{B} = \\mathrm{Tr_A} (\\rho_{AB}) = \\sum_{k=1}^{d} \\lambda_k^2 (|k\\rangle_B \\langle k|)\n",
    "\\end{equation}\n",
    "\n",
    "*This shows that both reduced density operators present the same eigenvalues.* Q.E.D.\n",
    "\n",
    "**Independent subsystems**\n",
    "\n",
    "Consider a composite system AB consisting of two independent subsystems. Then, the state of the system will be a product state and can be described by the density operator:\n",
    "\n",
    "\\begin{equation}\n",
    "\\rho_{AB} = \\rho_A \\otimes \\rho_B\n",
    "\\end{equation}\n",
    "\n",
    "**Entangled subsystems**\n",
    "\n",
    "Consider a composite system AB consisting of two entangled subsystems. Then, the state of the system will be an entangled state and the reduced density operators will be proporcional to the identity operator:\n",
    "\n",
    "\\begin{equation}\n",
    "\\rho_{A} = \\beta_A I\\\\\n",
    "\\rho_{B} = \\beta_B I\n",
    "\\end{equation}"
   ]
  },
  {
   "cell_type": "markdown",
   "metadata": {},
   "source": [
    "## Entropy"
   ]
  },
  {
   "cell_type": "markdown",
   "metadata": {},
   "source": [
    "The state that maximizes entropy is that with all the schmidt coefficients equal."
   ]
  },
  {
   "cell_type": "markdown",
   "metadata": {},
   "source": []
  },
  {
   "cell_type": "markdown",
   "metadata": {},
   "source": [
    "## Application case: Ising model"
   ]
  },
  {
   "cell_type": "code",
   "execution_count": 1,
   "metadata": {
    "scrolled": false
   },
   "outputs": [
    {
     "data": {
      "text/html": [
       "\n",
       "<style>\n",
       ".output {\n",
       "    display: flex;\n",
       "    align-items: center;\n",
       "    text-align: center;\n",
       "}\n",
       "</style>\n"
      ],
      "text/plain": [
       "<IPython.core.display.HTML object>"
      ]
     },
     "metadata": {},
     "output_type": "display_data"
    },
    {
     "name": "stderr",
     "output_type": "stream",
     "text": [
      "C:\\Users\\javig\\Anaconda3\\envs\\Qiskit\\lib\\site-packages\\networkx\\drawing\\nx_pylab.py:579: MatplotlibDeprecationWarning: \n",
      "The iterable function was deprecated in Matplotlib 3.1 and will be removed in 3.3. Use np.iterable instead.\n",
      "  if not cb.iterable(width):\n"
     ]
    },
    {
     "data": {
      "image/png": "[encoded data removed]",
      "text/plain": [
       "<Figure size 400x400 with 1 Axes>"
      ]
     },
     "metadata": {},
     "output_type": "display_data"
    },
    {
     "name": "stdout",
     "output_type": "stream",
     "text": [
      "[[0. 1. 1. 0.]\n",
      " [1. 0. 0. 1.]\n",
      " [1. 0. 0. 1.]\n",
      " [0. 1. 1. 0.]]\n"
     ]
    },
    {
     "name": "stderr",
     "output_type": "stream",
     "text": [
      "C:\\Users\\javig\\Anaconda3\\envs\\Qiskit\\lib\\site-packages\\matplotlib\\text.py:1150: FutureWarning: elementwise comparison failed; returning scalar instead, but in the future will perform elementwise comparison\n",
      "  if s != self._text:\n"
     ]
    },
    {
     "data": {
      "image/png": "[encoded data removed]",
      "text/plain": [
       "<Figure size 1040x600 with 1 Axes>"
      ]
     },
     "metadata": {},
     "output_type": "display_data"
    },
    {
     "name": "stderr",
     "output_type": "stream",
     "text": [
      "C:\\Users\\javig\\Anaconda3\\envs\\Qiskit\\lib\\site-packages\\matplotlib\\text.py:1150: FutureWarning: elementwise comparison failed; returning scalar instead, but in the future will perform elementwise comparison\n",
      "  if s != self._text:\n"
     ]
    },
    {
     "data": {
      "image/png": "[encoded data removed]",
      "text/plain": [
       "<Figure size 1040x600 with 1 Axes>"
      ]
     },
     "metadata": {},
     "output_type": "display_data"
    },
    {
     "name": "stdout",
     "output_type": "stream",
     "text": [
      "Solution is [1 1 1 1]\n",
      "Time (s): 17.336628675460815\n",
      "Energy (J): -7.999999503622363\n",
      "Number of evaluations: 389\n",
      "The energy expected for the ground state is -8.000000 J (¿son julios realmente?) and the energy of the final state is -8.000000 J.\n",
      "This means that there is a relative error in the energy of the ground state of 6.20e-08 J, due to the noise registered by the population of other states.\n"
     ]
    }
   ],
   "source": [
    "import os\n",
    "%matplotlib inline\n",
    "\n",
    "a = os.getcwd()\n",
    "os.chdir(a[:42])\n",
    "\n",
    "%run \"06 General Ising Model.ipynb\""
   ]
  },
  {
   "cell_type": "code",
   "execution_count": 2,
   "metadata": {},
   "outputs": [],
   "source": [
    "par = []\n",
    "\n",
    "with open(\"mis_fichero.txt\", \"r\") as f:\n",
    "    for line in f:\n",
    "        par.append(float(line.strip()))\n",
    "\n",
    "parameter = []\n",
    "\n",
    "for i in range(0, len(par), len(result['opt_params'])):\n",
    "    parameter.append(np.array(par[i:i + len(result['opt_params'])]))"
   ]
  },
  {
   "cell_type": "code",
   "execution_count": 3,
   "metadata": {},
   "outputs": [],
   "source": [
    "from qiskit.aqua.components.variational_forms.ry import RY\n",
    "from qiskit.aqua.components.variational_forms.ryrz import RYRZ\n",
    "\n",
    "import numpy as np\n",
    "\n",
    "num_qubits = N_col*N_row\n",
    "depth = var_form_cfg['depth']\n",
    "entanglement = var_form_cfg['entanglement']\n",
    "type_of_variation = var_form_cfg['name']\n",
    "\n",
    "if type_of_variation == 'RY':\n",
    "    circ = RY(num_qubits, depth=depth, entanglement=entanglement)\n",
    "elif type_of_variation == 'RYRZ':\n",
    "    circ = RYRZ(num_qubits, depth=depth, entanglement=entanglement)\n",
    "    \n",
    "#print(circ.construct_circuit(parameter[0]))"
   ]
  },
  {
   "cell_type": "code",
   "execution_count": 4,
   "metadata": {},
   "outputs": [],
   "source": [
    "from qiskit import BasicAer, execute\n",
    "from qiskit.tools.monitor import job_monitor\n",
    "\n",
    "def outputstate(circ):\n",
    "    backend = BasicAer.get_backend('statevector_simulator')\n",
    "    # Create a Quantum Program for execution \n",
    "    job = execute(circ, backend)\n",
    "    result = job.result()\n",
    "    outputstate = result.get_statevector(circ, decimals=3)\n",
    "    return outputstate\n",
    "\n",
    "output = []\n",
    "for par in parameter:\n",
    "    circuit = circ.construct_circuit(par)\n",
    "    output.append(outputstate(circuit))"
   ]
  },
  {
   "cell_type": "code",
   "execution_count": 5,
   "metadata": {},
   "outputs": [
    {
     "name": "stderr",
     "output_type": "stream",
     "text": [
      "C:\\Users\\javig\\Anaconda3\\envs\\Qiskit\\lib\\site-packages\\qiskit\\visualization\\state_visualization.py:770: MatplotlibDeprecationWarning: \n",
      "The mod function was deprecated in Matplotlib 3.1 and will be removed in 3.3. Use np.linalg.norm instead.\n",
      "  for n in normals])\n"
     ]
    }
   ],
   "source": [
    "#Lets visualize the density matrix.\n",
    "from qiskit.tools.visualization import plot_state_city\n",
    "import os\n",
    "import shutil\n",
    "\n",
    "path1 = os.getcwd()\n",
    "path2 = path1+'\\density'\n",
    "\n",
    "shutil.rmtree(path2, ignore_errors=True)\n",
    "\n",
    "try:\n",
    "    os.mkdir(path2)\n",
    "except:\n",
    "    pass\n",
    "        \n",
    "os.chdir(path2)\n",
    "\n",
    "for i in range(len(output)):\n",
    "    fig = plot_state_city(output[i])\n",
    "    fig.savefig('density' + str(i)+ '.png')\n",
    "\n",
    "os.chdir(path1)"
   ]
  },
  {
   "cell_type": "code",
   "execution_count": 6,
   "metadata": {},
   "outputs": [],
   "source": [
    "import imageio\n",
    "import os, sys\n",
    "import glob\n",
    "\n",
    "dataDir = path2\n",
    "\n",
    "os.chdir(dataDir)\n",
    "fileList = glob.glob(dataDir + '\\*.png')\n",
    "fileList.sort(key=lambda s: int(s[58:-4]))\n",
    "\n",
    "images = []\n",
    "\n",
    "for filename in fileList:\n",
    "    images.append(imageio.imread(filename))\n",
    "    \n",
    "kargs = { 'fps': 1 }    \n",
    "\n",
    "imageio.mimsave('density_movie.gif', images, **kargs)"
   ]
  },
  {
   "cell_type": "code",
   "execution_count": 7,
   "metadata": {},
   "outputs": [],
   "source": [
    "#from IPython.display import Image\n",
    "#Image(filename=\"density_movie.gif\")"
   ]
  },
  {
   "cell_type": "code",
   "execution_count": 8,
   "metadata": {},
   "outputs": [
    {
     "name": "stdout",
     "output_type": "stream",
     "text": [
      "4.505441371588217\n"
     ]
    }
   ],
   "source": [
    "from numpy.linalg import svd as svd\n",
    "\n",
    "def ent_entropy(psi, m ,n):\n",
    "    a = np.reshape(np.array(psi), (2**m, 2**(n-m)))\n",
    "    singular_val = svd(a)[1]\n",
    "    logarithm = np.ma.log2(singular_val)\n",
    "    logarithm = np.ma.filled(logarithm, 0)\n",
    "    s = singular_val * logarithm\n",
    "    return -np.sum(s)\n",
    "\n",
    "def max_entropy(psi, num_qubits):\n",
    "    lista = [ent_entropy(psi, m, num_qubits) for m in range(1, num_qubits)]\n",
    "    return (2**(num_qubits-1)-1)*max(lista) #np.mean(lista)\n",
    "\n",
    "print(max_entropy(output[0], num_qubits))"
   ]
  },
  {
   "cell_type": "raw",
   "metadata": {},
   "source": [
    "def ent_entropy(psi, m ,n):\n",
    "    a = np.reshape(np.array(psi), (2**m, 2**(n-m)))\n",
    "    singular_val = svd(a)[1]\n",
    "    logarithm = np.ma.log2(singular_val)\n",
    "    logarithm = np.ma.filled(logarithm, 0)\n",
    "    s = singular_val * logarithm\n",
    "    return -np.sum(s)\n",
    "\n",
    "def max_entropy(psi, num_qubits):\n",
    "    lista = []\n",
    "    for i in range(2**num_qubits):\n",
    "        bias = psi[0]\n",
    "        psi = psi[1:]\n",
    "        psi = np.append(psi, bias)\n",
    "        for m in range(1, num_qubits):\n",
    "            lista.append(ent_entropy(psi, m, num_qubits))\n",
    "    return np.max(lista) #max(lista)\n",
    "\n",
    "print(max_entropy(output[0], num_qubits))\n",
    "\n",
    "from qiskit import QuantumCircuit, ClassicalRegister, QuantumRegister\n",
    "from qiskit import execute\n",
    "\n",
    "def meass(q, m):\n",
    "    # Create a Classical Register with m bits.\n",
    "    c = ClassicalRegister(m, 'c')\n",
    "    # Create a Quantum Circuit for the measures\n",
    "    meas = QuantumCircuit(q, c)\n",
    "    meas.barrier(q)\n",
    "    # map the quantum measurement to the classical bits\n",
    "    meas.measure(q,c)\n",
    "    return meas\n",
    "\n",
    "q = QuantumRegister(num_qubits, 'q')\n",
    "circuit = circ.construct_circuit(parameter[-1])\n",
    "meas = meass(q, num_qubits)\n",
    "# The Qiskit circuit object supports composition using\n",
    "# the addition operator.\n",
    "qc = circuit+meas\n",
    "\n",
    "def simulator(qc, shots = 40*1024):\n",
    "    #We are now going to simulate the circuit many times.\n",
    "    # Use Aer's qasm_simulator\n",
    "    backend_sim = BasicAer.get_backend('qasm_simulator')\n",
    "\n",
    "    # Execute the circuit on the qasm simulator.\n",
    "    # We've set the number of repeats of the circuit\n",
    "    # to be 1024, which is the default.\n",
    "    job_sim = execute(qc, backend_sim, shots = shots)\n",
    "\n",
    "    # Grab the results from the job.\n",
    "    result_sim = job_sim.result()\n",
    "\n",
    "    #Give the output counts\n",
    "    counts = result_sim.get_counts(qc)\n",
    "    return counts\n",
    "\n",
    "counts = simulator(qc)\n",
    "print(output[-1])\n",
    "print(counts)\n",
    "from qiskit.tools.visualization import plot_histogram\n",
    "plot_histogram(counts)"
   ]
  },
  {
   "cell_type": "raw",
   "metadata": {},
   "source": [
    "from matplotlib import animation, rc\n",
    "from IPython.display import HTML\n",
    "\n",
    "#Get entropy\n",
    "S = []\n",
    "\n",
    "for out in output:\n",
    "    S.append(max_entropy(out, num_qubits))\n",
    "    \n",
    "print(S)\n",
    "# First set up the figure, the axis, and the plot element we want to animate\n",
    "fig, ax = plt.subplots()\n",
    "\n",
    "ax.set_xlim(( 0, len(S)))\n",
    "ax.set_ylim((0, max(S)))\n",
    "ax.set_xlabel('# of iterations')\n",
    "ax.set_ylabel('Entropy (bits)')\n",
    "\n",
    "line, = ax.plot([], [], lw=2)\n",
    "\n",
    "# initialization function: plot the background of each frame\n",
    "def init():\n",
    "    line.set_data([], [])\n",
    "    return (line,)\n",
    "\n",
    "# animation function. This is called sequentially\n",
    "def animate(i):\n",
    "    x = range(0, i+1)\n",
    "    y = S[0:i+1]\n",
    "    line.set_data(x, y)\n",
    "    return (line,)\n",
    "\n",
    "# call the animator. blit=True means only re-draw the parts that have changed.\n",
    "anim = animation.FuncAnimation(fig, animate, init_func=init, frames=len(S), interval=1000, blit=True)\n",
    "os.chdir(path2)\n",
    "anim.save('entropy.gif', writer='imagemagick', fps=1)\n",
    "\n",
    "HTML(anim.to_html5_video())"
   ]
  },
  {
   "cell_type": "raw",
   "metadata": {},
   "source": [
    "import moviepy.editor as mpy\n",
    "# We use the GIFs generated earlier to avoid recomputing the animations.\n",
    "clip_mayavi = mpy.VideoFileClip(\"density_movie.gif\")\n",
    "clip_mpl = mpy.VideoFileClip(\"entropy.gif\").resize(height=clip_mayavi.h)\n",
    "animation = mpy.clips_array([[clip_mpl, clip_mayavi]])\n",
    "animation.write_gif(\"sinc_plot.gif\", fps=20)\n",
    "\n",
    "Image(filename=\"sinc_plot.gif\")"
   ]
  },
  {
   "cell_type": "code",
   "execution_count": 11,
   "metadata": {},
   "outputs": [
    {
     "data": {
      "image/png": "[encoded data removed]",
      "text/plain": [
       "<Figure size 432x288 with 1 Axes>"
      ]
     },
     "metadata": {
      "needs_background": "light"
     },
     "output_type": "display_data"
    }
   ],
   "source": [
    "#Get entropy\n",
    "S = []\n",
    "\n",
    "for out in output:\n",
    "    S.append(max_entropy(out, num_qubits))\n",
    "# First set up the figure, the axis, and the plot element we want to animate\n",
    "plot = plt.plot(range(len(S)), S)\n",
    "plt.xlim(( 0, len(S)))\n",
    "plt.ylim((0, max(S)+1))\n",
    "plt.xlabel('# of iterations', fontsize=14)\n",
    "plt.ylabel('Entropy (bits)', fontsize=14)\n",
    "plt.text(13.5, 5, \"$J_{ij} = -1$\\n $\\mu_0 h_j = 3$\", bbox=dict(facecolor='red', alpha=0.5), fontsize=16)\n",
    "#plt.text(15, 8, \"$\\mu_0 h_j = 2$\\n as\", bbox=dict(facecolor='red', alpha=0.5))\n",
    "plt.savefig('entropy_nonfrustrated.png')"
   ]
  },
  {
   "cell_type": "markdown",
   "metadata": {},
   "source": [
    "### Appendix 1: Singular Value Decomposition\n",
    "\n",
    "Generalization of the eigendecomposition of a positive semidefinite normal matrix to a $m\\times n$ matrix via an extension of the polar decomposition:\n",
    "\n",
    "\\begin{equation}\n",
    "M = U \\Sigma V^{\\dagger}\n",
    "\\end{equation}\n",
    "\n",
    "where $\\Sigma$ is a rectangular matrix and $U$ and $V$ are unitary matrices satisfying:\n",
    "\n",
    "\\begin{equation}\n",
    "U U^{\\dagger} = I\\\\\n",
    "V V^{\\dagger} = I\n",
    "\\end{equation}"
   ]
  },
  {
   "cell_type": "markdown",
   "metadata": {},
   "source": [
    "## Bibliography\n",
    "\n",
    "**[1]** Zulko. (2014, November 29). Data Animations With Python and MoviePy. Retrieved March 6, 2019, from http://zulko.github.io/blog/2014/11/29/data-animations-with-python-and-moviepy/\n",
    "\n",
    "**[2]** Nielsen, M. A., & Chuang, I. (2002). Quantum computation and quantum information.\n",
    "\n",
    "**[3]** Louisiana State University, M. M. (2015, September 16). Introduction to Quantum Information Theory—PHYS 7895. Retrieved from http://www.markwilde.com/teaching/2015-fall-qit/lectures/lecture-07.pdf\n",
    "\n",
    "**[4]** Maynooth University Department of Theoretical Physics, Jiri Vala. Lecture 9. MP 472 Quantum Information and Computation. www.thphys.nuim.ie/staff/jvala/Lecture_9.pdf.\n",
    "\n",
    "**[5]** Anonymous. “Bipartite States and Schmidt Decomposition.” Quantiki, 3 Mar. 2019, www.quantiki.org/wiki/bipartite-states-and-schmidt-decomposition.\n",
    "\n",
    "**[6]** Horodecki, P., Bruß, D., & Leuchs, G. (2006). Lectures on Quantum Information.\n",
    "\n",
    "\n",
    "https://cs.stackexchange.com/questions/56261/computing-von-neumann-entropy-efficiently\n",
    "\n",
    "https://physics.stackexchange.com/questions/251522/how-do-you-find-a-schmidt-basis-and-how-can-the-schmidt-decomposition-be-used-f\n",
    "\n",
    "http://web.mit.edu/2.111/www/2010/ps3_2010Sol2.pdf\n",
    "\n",
    "https://en.wikipedia.org/wiki/Entropy_of_entanglement\n",
    "\n",
    "https://es.wikipedia.org/wiki/Entrop%C3%ADa_de_von_Neumann\n",
    "\n",
    "https://en.wikipedia.org/wiki/Singular_value_decomposition#Analytic_result_of_2_%C3%97_2_SVD\n",
    "\n",
    "https://en.wikipedia.org/wiki/Schmidt_decomposition\n"
   ]
  }
 ],
 "metadata": {
  "kernelspec": {
   "display_name": "Python (Qiskit)",
   "language": "python",
   "name": "qiskit"
  },
  "language_info": {
   "codemirror_mode": {
    "name": "ipython",
    "version": 3
   },
   "file_extension": ".py",
   "mimetype": "text/x-python",
   "name": "python",
   "nbconvert_exporter": "python",
   "pygments_lexer": "ipython3",
   "version": "3.7.3"
  },
  "latex_envs": {
   "LaTeX_envs_menu_present": true,
   "autoclose": false,
   "autocomplete": true,
   "bibliofile": "biblio.bib",
   "cite_by": "apalike",
   "current_citInitial": 1,
   "eqLabelWithNumbers": true,
   "eqNumInitial": 1,
   "hotkeys": {
    "equation": "Ctrl-E",
    "itemize": "Ctrl-I"
   },
   "labels_anchors": true,
   "latex_user_defs": false,
   "report_style_numbering": false,
   "user_envs_cfg": false
  }
 },
 "nbformat": 4,
 "nbformat_minor": 2
}
